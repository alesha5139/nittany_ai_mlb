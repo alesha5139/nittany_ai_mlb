{
  "nbformat": 4,
  "nbformat_minor": 0,
  "metadata": {
    "colab": {
      "provenance": []
    },
    "kernelspec": {
      "name": "python3",
      "display_name": "Python 3"
    },
    "language_info": {
      "name": "python"
    }
  },
  "cells": [
    {
      "cell_type": "code",
      "execution_count": 1,
      "metadata": {
        "id": "hr1sxq6R1wJU"
      },
      "outputs": [],
      "source": [
        "# load packages\n",
        "import torch\n",
        "import torchvision"
      ]
    },
    {
      "cell_type": "code",
      "source": [
        "# import MNIST data set\n",
        "from torchvision.datasets import MNIST\n",
        "from torchvision.transforms import Compose, ToTensor, Lambda\n",
        "transform = Compose([\n",
        "    ToTensor(),\n",
        "    #Lambda(lambda image: image / 255),\n",
        "    Lambda(lambda image: image.view(784))\n",
        "])\n",
        "data_train = MNIST(root=\"./\",download=True,train=True,transform=transform)\n",
        "data_test = MNIST(root=\"./\",download=True,train=False,transform=transform)"
      ],
      "metadata": {
        "id": "xK2aGO8o4o35"
      },
      "execution_count": 8,
      "outputs": []
    },
    {
      "cell_type": "code",
      "source": [
        "data_train[0][0].shape"
      ],
      "metadata": {
        "colab": {
          "base_uri": "https://localhost:8080/"
        },
        "id": "qyF7LlVe5PD8",
        "outputId": "510b6404-bdc5-4d43-eb2f-0d9f5957bfc7"
      },
      "execution_count": 9,
      "outputs": [
        {
          "output_type": "execute_result",
          "data": {
            "text/plain": [
              "torch.Size([784])"
            ]
          },
          "metadata": {},
          "execution_count": 9
        }
      ]
    },
    {
      "cell_type": "code",
      "source": [
        "# define model\n",
        "from torch import nn, optim\n",
        "class MNISTModel(nn.Module):\n",
        "  def __init__(self):\n",
        "    super().__init__()\n",
        "    self.layers = nn.Sequential(\n",
        "        nn.Linear(784,512),\n",
        "        nn.ReLU(),\n",
        "        nn.Linear(512,512),\n",
        "        nn.ReLU(),\n",
        "        nn.Linear(512,10)\n",
        "    )\n",
        "    self.loss = nn.CrossEntropyLoss()\n",
        "    self.optimizer = optim.Adam(self.parameters())\n",
        "  def forward(self, X):\n",
        "    return self.layers(X)\n",
        "\n",
        "  def predict(self, X):\n",
        "    with torch.no_grad():\n",
        "      return torch.argmax(self.forward(X),axis=-1)\n",
        "\n",
        "  def fit(self,X,Y):\n",
        "    self.optimizer.zero_grad()\n",
        "    y_pred = self.forward(X)\n",
        "    loss = self.loss(y_pred,Y)\n",
        "    loss.backward()\n",
        "    self.optimizer.step()\n",
        "    return loss.item()"
      ],
      "metadata": {
        "id": "QAIMMh2d5SJ6"
      },
      "execution_count": 16,
      "outputs": []
    },
    {
      "cell_type": "code",
      "source": [
        "# create model\n",
        "mnist_model = MNISTModel()"
      ],
      "metadata": {
        "id": "LJCQeOKR7CqB"
      },
      "execution_count": 17,
      "outputs": []
    },
    {
      "cell_type": "code",
      "source": [
        "from torch.utils.data import DataLoader\n",
        "BATCH_SIZE = 16\n",
        "dataloader_train = DataLoader(data_train,batch_size = BATCH_SIZE,shuffle=True)\n",
        "dataloader_test = DataLoader(data_test,batch_size=BATCH_SIZE,shuffle=True)"
      ],
      "metadata": {
        "id": "_3hIWz_r_OpB"
      },
      "execution_count": 14,
      "outputs": []
    },
    {
      "cell_type": "code",
      "source": [
        "# train model\n",
        "from tqdm import tqdm\n",
        "EPOCHS = 5\n",
        "for i in range(EPOCHS):\n",
        "  total_loss = 0\n",
        "  for xs, ys in tqdm(dataloader_train,desc=f\"Fitting EPOCH {i}\"):\n",
        "    total_loss += mnist_model.fit(xs,ys)\n",
        "  total_loss /= len(dataloader_train)\n",
        "  print(f\"EPOCH {i}: {total_loss:.4f}\")"
      ],
      "metadata": {
        "colab": {
          "base_uri": "https://localhost:8080/"
        },
        "id": "dvko3ahc_uid",
        "outputId": "bca3163a-3245-4c3e-f011-feb73e4e6622"
      },
      "execution_count": 18,
      "outputs": [
        {
          "output_type": "stream",
          "name": "stderr",
          "text": [
            "Fitting EPOCH {i}: 100%|██████████| 3750/3750 [00:46<00:00, 81.26it/s]\n"
          ]
        },
        {
          "output_type": "stream",
          "name": "stdout",
          "text": [
            "EPOCH 0: 0.1942\n"
          ]
        },
        {
          "output_type": "stream",
          "name": "stderr",
          "text": [
            "Fitting EPOCH {i}: 100%|██████████| 3750/3750 [00:53<00:00, 69.75it/s]\n"
          ]
        },
        {
          "output_type": "stream",
          "name": "stdout",
          "text": [
            "EPOCH 1: 0.0875\n"
          ]
        },
        {
          "output_type": "stream",
          "name": "stderr",
          "text": [
            "Fitting EPOCH {i}: 100%|██████████| 3750/3750 [00:57<00:00, 65.41it/s]\n"
          ]
        },
        {
          "output_type": "stream",
          "name": "stdout",
          "text": [
            "EPOCH 2: 0.0639\n"
          ]
        },
        {
          "output_type": "stream",
          "name": "stderr",
          "text": [
            "Fitting EPOCH {i}: 100%|██████████| 3750/3750 [00:57<00:00, 64.97it/s]\n"
          ]
        },
        {
          "output_type": "stream",
          "name": "stdout",
          "text": [
            "EPOCH 3: 0.0490\n"
          ]
        },
        {
          "output_type": "stream",
          "name": "stderr",
          "text": [
            "Fitting EPOCH {i}: 100%|██████████| 3750/3750 [00:59<00:00, 62.98it/s]"
          ]
        },
        {
          "output_type": "stream",
          "name": "stdout",
          "text": [
            "EPOCH 4: 0.0394\n"
          ]
        },
        {
          "output_type": "stream",
          "name": "stderr",
          "text": [
            "\n"
          ]
        }
      ]
    },
    {
      "cell_type": "code",
      "source": [
        "correct = 0\n",
        "for xs, ys in dataloader_test:\n",
        "  y_pred = mnist_model.predict(xs)\n",
        "  correct += (ys == y_pred).sum()\n",
        "acc = correct / (len(dataloader_test) * BATCH_SIZE)\n",
        "print(f\"ACCURACY: {acc}\")"
      ],
      "metadata": {
        "colab": {
          "base_uri": "https://localhost:8080/"
        },
        "id": "v5u3Gb42A2hs",
        "outputId": "410e9e0d-6cf6-4e2b-8bed-f7964ce4c901"
      },
      "execution_count": 20,
      "outputs": [
        {
          "output_type": "stream",
          "name": "stdout",
          "text": [
            "ACCURACY: 0.9797000288963318\n"
          ]
        }
      ]
    }
  ]
}